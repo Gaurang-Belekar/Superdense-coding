{
 "cells": [
  {
   "cell_type": "code",
   "execution_count": 1,
   "id": "49907544",
   "metadata": {},
   "outputs": [],
   "source": [
    "from qiskit import *\n",
    "from qiskit.tools.visualization import plot_histogram"
   ]
  },
  {
   "cell_type": "code",
   "execution_count": 2,
   "id": "2fd8e39e",
   "metadata": {},
   "outputs": [
    {
     "data": {
      "text/html": [
       "<pre style=\"word-wrap: normal;white-space: pre;background: #fff0;line-height: 1.1;font-family: &quot;Courier New&quot;,Courier,monospace\">          ┌───┐ ░ \n",
       "q_0: ─────┤ X ├─░─\n",
       "     ┌───┐└─┬─┘ ░ \n",
       "q_1: ┤ H ├──■───░─\n",
       "     └───┘      ░ \n",
       "c: 2/═════════════\n",
       "                  </pre>"
      ],
      "text/plain": [
       "          ┌───┐ ░ \n",
       "q_0: ─────┤ X ├─░─\n",
       "     ┌───┐└─┬─┘ ░ \n",
       "q_1: ┤ H ├──■───░─\n",
       "     └───┘      ░ \n",
       "c: 2/═════════════\n",
       "                  "
      ]
     },
     "execution_count": 2,
     "metadata": {},
     "output_type": "execute_result"
    }
   ],
   "source": [
    "#Creating our QuantumCircuit\n",
    "qc = QuantumCircuit(2,2)\n",
    "\n",
    "#Entagling Alice and Bob's qubits\n",
    "\n",
    "qc.h(1)\n",
    "qc.cx(1,0)\n",
    "qc.barrier()\n",
    "qc.draw()"
   ]
  },
  {
   "cell_type": "code",
   "execution_count": 3,
   "id": "37b6b936",
   "metadata": {},
   "outputs": [
    {
     "data": {
      "text/html": [
       "<pre style=\"word-wrap: normal;white-space: pre;background: #fff0;line-height: 1.1;font-family: &quot;Courier New&quot;,Courier,monospace\">          ┌───┐ ░       ░ \n",
       "q_0: ─────┤ X ├─░───────░─\n",
       "     ┌───┐└─┬─┘ ░ ┌───┐ ░ \n",
       "q_1: ┤ H ├──■───░─┤ Z ├─░─\n",
       "     └───┘      ░ └───┘ ░ \n",
       "c: 2/═════════════════════\n",
       "                          </pre>"
      ],
      "text/plain": [
       "          ┌───┐ ░       ░ \n",
       "q_0: ─────┤ X ├─░───────░─\n",
       "     ┌───┐└─┬─┘ ░ ┌───┐ ░ \n",
       "q_1: ┤ H ├──■───░─┤ Z ├─░─\n",
       "     └───┘      ░ └───┘ ░ \n",
       "c: 2/═════════════════════\n",
       "                          "
      ]
     },
     "execution_count": 3,
     "metadata": {},
     "output_type": "execute_result"
    }
   ],
   "source": [
    "#Imposing our information\n",
    "\n",
    "qc.z(1)\n",
    "qc.barrier()\n",
    "qc.draw()"
   ]
  },
  {
   "cell_type": "code",
   "execution_count": 4,
   "id": "d985ef76",
   "metadata": {},
   "outputs": [
    {
     "data": {
      "text/html": [
       "<pre style=\"word-wrap: normal;white-space: pre;background: #fff0;line-height: 1.1;font-family: &quot;Courier New&quot;,Courier,monospace\">          ┌───┐ ░       ░ ┌───┐     \n",
       "q_0: ─────┤ X ├─░───────░─┤ X ├─────\n",
       "     ┌───┐└─┬─┘ ░ ┌───┐ ░ └─┬─┘┌───┐\n",
       "q_1: ┤ H ├──■───░─┤ Z ├─░───■──┤ H ├\n",
       "     └───┘      ░ └───┘ ░      └───┘\n",
       "c: 2/═══════════════════════════════\n",
       "                                    </pre>"
      ],
      "text/plain": [
       "          ┌───┐ ░       ░ ┌───┐     \n",
       "q_0: ─────┤ X ├─░───────░─┤ X ├─────\n",
       "     ┌───┐└─┬─┘ ░ ┌───┐ ░ └─┬─┘┌───┐\n",
       "q_1: ┤ H ├──■───░─┤ Z ├─░───■──┤ H ├\n",
       "     └───┘      ░ └───┘ ░      └───┘\n",
       "c: 2/═══════════════════════════════\n",
       "                                    "
      ]
     },
     "execution_count": 4,
     "metadata": {},
     "output_type": "execute_result"
    }
   ],
   "source": [
    "#Bob measuring his qubit\n",
    "\n",
    "qc.cx(1,0)\n",
    "qc.h(1)\n",
    "qc.draw()"
   ]
  },
  {
   "cell_type": "code",
   "execution_count": null,
   "id": "ca1f9b4d",
   "metadata": {},
   "outputs": [],
   "source": [
    "backend = Aer.get_backend('aer_backend')\n",
    "counts = backend.run(qc).result().get_counts()\n"
   ]
  }
 ],
 "metadata": {
  "kernelspec": {
   "display_name": "Python 3 (ipykernel)",
   "language": "python",
   "name": "python3"
  },
  "language_info": {
   "codemirror_mode": {
    "name": "ipython",
    "version": 3
   },
   "file_extension": ".py",
   "mimetype": "text/x-python",
   "name": "python",
   "nbconvert_exporter": "python",
   "pygments_lexer": "ipython3",
   "version": "3.10.4"
  }
 },
 "nbformat": 4,
 "nbformat_minor": 5
}
